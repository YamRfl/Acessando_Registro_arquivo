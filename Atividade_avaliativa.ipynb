{
  "nbformat": 4,
  "nbformat_minor": 0,
  "metadata": {
    "colab": {
      "provenance": [],
      "mount_file_id": "1fKRGj6kh40UjaUq2Q2nP6CK_1L_u4Za0",
      "authorship_tag": "ABX9TyOtbDVIfdZdJOS2GZhoZ+Tw",
      "include_colab_link": true
    },
    "kernelspec": {
      "name": "python3",
      "display_name": "Python 3"
    },
    "language_info": {
      "name": "python"
    }
  },
  "cells": [
    {
      "cell_type": "markdown",
      "metadata": {
        "id": "view-in-github",
        "colab_type": "text"
      },
      "source": [
        "<a href=\"https://colab.research.google.com/github/YamRfl/Acessando_Registro_arquivo/blob/main/Atividade_avaliativa.ipynb\" target=\"_parent\"><img src=\"https://colab.research.google.com/assets/colab-badge.svg\" alt=\"Open In Colab\"/></a>"
      ]
    },
    {
      "cell_type": "markdown",
      "source": [
        "##Criando repositório"
      ],
      "metadata": {
        "id": "46E_lHZFtjm6"
      }
    },
    {
      "cell_type": "code",
      "source": [
        "import time\n",
        "\n",
        "def openLog(nomearq, modo = 'r'):\n",
        "\n",
        "  arqEntrada = open(nomearq, modo)\n",
        "\n",
        "  now = time.localtime()\n",
        "  nowFormat = time.strftime('%A %b/%d/%y %I:%M %p', now)\n",
        "\n",
        "  arqSaida = open('log.txt', 'a')\n",
        "  log = '{}: Arquivo {} aberto.\\n'\n",
        "  arqSaida.write(log.format(nowFormat, nomearq))\n",
        "  arqSaida.close()\n",
        "\n",
        "  print('Registro realizado')\n",
        "\n",
        "  return arqEntrada\n",
        ""
      ],
      "metadata": {
        "id": "ADxNTtOotpxx"
      },
      "execution_count": 19,
      "outputs": []
    },
    {
      "cell_type": "code",
      "source": [
        "openLog('/content/drive/MyDrive/LPI/teste.txt')"
      ],
      "metadata": {
        "colab": {
          "base_uri": "https://localhost:8080/"
        },
        "id": "j2KdXsbEyVE6",
        "outputId": "384bdade-4480-48fe-cb44-806ab286922d"
      },
      "execution_count": 21,
      "outputs": [
        {
          "output_type": "stream",
          "name": "stdout",
          "text": [
            "Registro realizado\n"
          ]
        },
        {
          "output_type": "execute_result",
          "data": {
            "text/plain": [
              "<_io.TextIOWrapper name='/content/drive/MyDrive/LPI/teste.txt' mode='r' encoding='utf-8'>"
            ]
          },
          "metadata": {},
          "execution_count": 21
        }
      ]
    }
  ]
}